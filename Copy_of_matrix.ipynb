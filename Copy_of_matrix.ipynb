{
  "nbformat": 4,
  "nbformat_minor": 0,
  "metadata": {
    "colab": {
      "name": "Copy of matrix.ipynb",
      "provenance": [],
      "collapsed_sections": [],
      "authorship_tag": "ABX9TyP/iq4ENJeqhzJv66ZiJSse",
      "include_colab_link": true
    },
    "kernelspec": {
      "name": "python3",
      "display_name": "Python 3"
    },
    "language_info": {
      "name": "python"
    }
  },
  "cells": [
    {
      "cell_type": "markdown",
      "metadata": {
        "id": "view-in-github",
        "colab_type": "text"
      },
      "source": [
        "<a href=\"https://colab.research.google.com/github/Epsilonche/NumVerDatenAnalyse21/blob/master/Copy_of_matrix.ipynb\" target=\"_parent\"><img src=\"https://colab.research.google.com/assets/colab-badge.svg\" alt=\"Open In Colab\"/></a>"
      ]
    },
    {
      "cell_type": "code",
      "metadata": {
        "id": "72ryF7V3tvvP"
      },
      "source": [
        "import numpy as np\n",
        "from numpy import matrix"
      ],
      "execution_count": null,
      "outputs": []
    },
    {
      "cell_type": "code",
      "metadata": {
        "id": "CBs7VGNQffoP"
      },
      "source": [
        "def generateRandom2DMatrix(rows: int, columns: int, min_value: int, max_value: int) -> np.matrix:\n",
        "    '''\n",
        "        Function to generate one random 2d n*m matrix:\n",
        "        @param: rows:int number of rows\n",
        "        @param: columns:int number of columns\n",
        "        @param: min_value:int minimum value of random numbers\n",
        "        @param: max_value:int maximum value of random numbers\n",
        "\n",
        "        @Outuput : Matrix of size rows*columns with values ranging between min and max values\n",
        "    '''\n",
        "    if(not(isinstance(rows,int))):\n",
        "        print(\"rows must be given as an integer\")\n",
        "    elif(not(isinstance(columns,int))):\n",
        "        print(\"columns must be given as an integer\")\n",
        "    elif(not(isinstance(min_value,int))): \n",
        "        print(\"min_value must be given as an integer\")\n",
        "    elif(not(isinstance(max_value,int))):\n",
        "        print(\"max_value must be given as an integer\")\n",
        "    elif(rows<1):\n",
        "        print(\"number of rows must be at least 1\")\n",
        "    elif(columns<1):\n",
        "        print(\"number of columns must be at least 1\")\n",
        "\n",
        "    else:\n",
        "        rand = np.random.randint(min_value, max_value+1, size=(rows, columns))\n",
        "        generated_matrix = np.matrix(rand)\n",
        "        return generated_matrix\n"
      ],
      "execution_count": null,
      "outputs": []
    },
    {
      "cell_type": "code",
      "metadata": {
        "id": "ezWB2j-Dp0gx"
      },
      "source": [
        "def generateRandom2DMatrixSample(size: int, max_rows: int, max_columns: int) -> list:\n",
        "    '''\n",
        "        Function to generate a sample containing random 2d-Matrixes of random dimentions\n",
        "        @param: size:int size of the random sample \n",
        "        @param: max_rows:int maximum number of rows\n",
        "        @param: max_columns:int maximum number of columns\n",
        "\n",
        "        @Outuput : list of random Matrixes \n",
        "    '''\n",
        "    #local parameters , todo: golbalised parameters \n",
        "    min_value=-100\n",
        "    max_value=100\n",
        "\n",
        "    if(not(isinstance(size,int))):\n",
        "        print(\"rows must be given as an integer\")\n",
        "    elif(not(isinstance(max_rows,int))):\n",
        "        print(\"columns must be given as an integer\")\n",
        "    elif(not(isinstance(max_columns,int))): \n",
        "        print(\"min_value must be given as an integer\")\n",
        "    elif(size<1): \n",
        "        print(\"size of sample must be at leat 1\")\n",
        "    else:\n",
        "        return [generateRandom2DMatrix(np.random.randint(1,max_rows+1),np.random.randint(1,max_columns+1),min_value,max_value) for i in range(size)]\n"
      ],
      "execution_count": null,
      "outputs": []
    },
    {
      "cell_type": "code",
      "metadata": {
        "id": "eQhrq-xGyKHT"
      },
      "source": [
        "def diagonalDominantOf( matrix: np.matrix):\n",
        "    dimention = sqrt(matrix.size)\n",
        "    for i in range(dimention):\n",
        "         matrix.itemset((i,i),)\n",
        "    "
      ],
      "execution_count": null,
      "outputs": []
    },
    {
      "cell_type": "code",
      "metadata": {
        "colab": {
          "base_uri": "https://localhost:8080/"
        },
        "id": "5knI-yeDtpwf",
        "outputId": "71c57b9e-fe0d-4c2f-e12e-f9cb840044cb"
      },
      "source": [
        "a = generateRandom2DMatrix(3,3,-10,10)\n",
        "print(a)\n",
        "\n",
        "a.item(0,1)"
      ],
      "execution_count": null,
      "outputs": [
        {
          "output_type": "stream",
          "name": "stdout",
          "text": [
            "[[ -7 -10   8]\n",
            " [ -5   8  -3]\n",
            " [  5  -5   6]]\n"
          ]
        },
        {
          "output_type": "execute_result",
          "data": {
            "text/plain": [
              "-10"
            ]
          },
          "metadata": {},
          "execution_count": 22
        }
      ]
    }
  ]
}